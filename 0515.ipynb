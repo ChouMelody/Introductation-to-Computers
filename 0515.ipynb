{
  "nbformat": 4,
  "nbformat_minor": 0,
  "metadata": {
    "colab": {
      "provenance": [],
      "authorship_tag": "ABX9TyN4T6DHtFo4+LLCrGQQLn0F",
      "include_colab_link": true
    },
    "kernelspec": {
      "name": "python3",
      "display_name": "Python 3"
    },
    "language_info": {
      "name": "python"
    }
  },
  "cells": [
    {
      "cell_type": "markdown",
      "metadata": {
        "id": "view-in-github",
        "colab_type": "text"
      },
      "source": [
        "<a href=\"https://colab.research.google.com/github/ChouMelody/Introductation-to-Computers/blob/main/0515.ipynb\" target=\"_parent\"><img src=\"https://colab.research.google.com/assets/colab-badge.svg\" alt=\"Open In Colab\"/></a>"
      ]
    },
    {
      "cell_type": "code",
      "execution_count": 1,
      "metadata": {
        "colab": {
          "base_uri": "https://localhost:8080/"
        },
        "id": "0zP8jNi9S8eg",
        "outputId": "1346e96a-d9ae-44ef-eee9-ee1497594b20"
      },
      "outputs": [
        {
          "output_type": "stream",
          "name": "stdout",
          "text": [
            "0515\n"
          ]
        }
      ],
      "source": [
        "print(\"0515\")"
      ]
    },
    {
      "cell_type": "code",
      "source": [
        "int(input('今天會下雨嗎'))\n",
        "if  (rain==\"Y\"):\n",
        "  print('要帶傘') \n",
        "if  (rain==\"y\"):\n",
        "  print('要帶傘')"
      ],
      "metadata": {
        "colab": {
          "base_uri": "https://localhost:8080/",
          "height": 254
        },
        "id": "3OGrYSPGiyfG",
        "outputId": "31a7278e-c0e5-41d9-ca1d-85ffd81eefaa"
      },
      "execution_count": 61,
      "outputs": [
        {
          "name": "stdout",
          "output_type": "stream",
          "text": [
            "今天會下雨嗎Y\n"
          ]
        },
        {
          "output_type": "error",
          "ename": "ValueError",
          "evalue": "ignored",
          "traceback": [
            "\u001b[0;31m---------------------------------------------------------------------------\u001b[0m",
            "\u001b[0;31mValueError\u001b[0m                                Traceback (most recent call last)",
            "\u001b[0;32m<ipython-input-61-23e7bed9b273>\u001b[0m in \u001b[0;36m<cell line: 1>\u001b[0;34m()\u001b[0m\n\u001b[0;32m----> 1\u001b[0;31m \u001b[0mint\u001b[0m\u001b[0;34m(\u001b[0m\u001b[0minput\u001b[0m\u001b[0;34m(\u001b[0m\u001b[0;34m'今天會下雨嗎'\u001b[0m\u001b[0;34m)\u001b[0m\u001b[0;34m)\u001b[0m\u001b[0;34m\u001b[0m\u001b[0;34m\u001b[0m\u001b[0m\n\u001b[0m\u001b[1;32m      2\u001b[0m \u001b[0;32mif\u001b[0m  \u001b[0;34m(\u001b[0m\u001b[0mrain\u001b[0m\u001b[0;34m==\u001b[0m\u001b[0;34m\"Y\"\u001b[0m\u001b[0;34m)\u001b[0m\u001b[0;34m:\u001b[0m\u001b[0;34m\u001b[0m\u001b[0;34m\u001b[0m\u001b[0m\n\u001b[1;32m      3\u001b[0m   \u001b[0mprint\u001b[0m\u001b[0;34m(\u001b[0m\u001b[0;34m'要帶傘'\u001b[0m\u001b[0;34m)\u001b[0m\u001b[0;34m\u001b[0m\u001b[0;34m\u001b[0m\u001b[0m\n\u001b[1;32m      4\u001b[0m \u001b[0;32mif\u001b[0m  \u001b[0;34m(\u001b[0m\u001b[0mrain\u001b[0m\u001b[0;34m==\u001b[0m\u001b[0;34m\"y\"\u001b[0m\u001b[0;34m)\u001b[0m\u001b[0;34m:\u001b[0m\u001b[0;34m\u001b[0m\u001b[0;34m\u001b[0m\u001b[0m\n\u001b[1;32m      5\u001b[0m   \u001b[0mprint\u001b[0m\u001b[0;34m(\u001b[0m\u001b[0;34m'要帶傘'\u001b[0m\u001b[0;34m)\u001b[0m\u001b[0;34m\u001b[0m\u001b[0;34m\u001b[0m\u001b[0m\n",
            "\u001b[0;31mValueError\u001b[0m: invalid literal for int() with base 10: 'Y'"
          ]
        }
      ]
    },
    {
      "cell_type": "code",
      "source": [
        "體溫=int(input('請輸入體溫'))\n",
        "if  體溫>=37.5:\n",
        "  print(\"體溫過高!\")\n",
        "elif  37<體溫<37.4:\n",
        "  print(\"體溫略高!\")\n",
        "elif  34<體溫<36.9:\n",
        "  print(\"體溫正常!\")\n",
        "elif  體溫<34:\n",
        "  print(\"體溫異常，請重新量測!\")"
      ],
      "metadata": {
        "colab": {
          "base_uri": "https://localhost:8080/"
        },
        "id": "8GkC1_vjYD9y",
        "outputId": "a00b9ed6-63ed-4f03-8ef9-3f6049cb94ad"
      },
      "execution_count": 16,
      "outputs": [
        {
          "output_type": "stream",
          "name": "stdout",
          "text": [
            "請輸入體溫36\n",
            "體溫正常!\n"
          ]
        }
      ]
    },
    {
      "cell_type": "code",
      "source": [
        "分數=int(input('請輸入分數'))\n",
        "if  分數>90:\n",
        "  print(\"A\")\n",
        "elif  80<分數<89:\n",
        "  print(\"B\")\n",
        "elif  70<分數<79:\n",
        "  print(\"C\")\n",
        "elif  60<分數<69:\n",
        "  print(\"D\")\n",
        "elif  分數<60:\n",
        "  print(\"E\")"
      ],
      "metadata": {
        "colab": {
          "base_uri": "https://localhost:8080/"
        },
        "id": "kyla8em8azx5",
        "outputId": "5972f51a-e965-477a-9579-821fad7cf85c"
      },
      "execution_count": 17,
      "outputs": [
        {
          "output_type": "stream",
          "name": "stdout",
          "text": [
            "請輸入分數59\n",
            "E\n"
          ]
        }
      ]
    },
    {
      "cell_type": "code",
      "source": [
        "month = int(input('Month:'))\n",
        "if month in [3]:\n",
        "  print('3月是春天')  \n",
        "if month in [4]:\n",
        "  print('4月是春天') \n",
        "if month in [5]:\n",
        "  print('5月是春天') \n",
        "elif month in [6]:\n",
        "  print('6月是夏天')\n",
        "elif month in [7]:\n",
        "  print('7月是夏天')\n",
        "elif month in [8]:\n",
        "  print('8月是夏天')\n",
        "elif month in [9]:\n",
        "  print('9月是秋天')\n",
        "elif month in [10]:\n",
        "  print('10月是秋天')\n",
        "elif month in [11]:\n",
        "  print('11月是秋天')\n",
        "elif month in [12]:\n",
        "  print('12月是冬天')\n",
        "elif month in [1]:\n",
        "  print('1月是冬天')\n",
        "elif month in [2]:\n",
        "  print('2月是冬天')\n",
        "else:\n",
        "  print('月份不在範圍內')"
      ],
      "metadata": {
        "colab": {
          "base_uri": "https://localhost:8080/"
        },
        "id": "O461Gv12c4Xd",
        "outputId": "1244a717-2e21-4972-98e5-ca4f8fe93a07"
      },
      "execution_count": 30,
      "outputs": [
        {
          "output_type": "stream",
          "name": "stdout",
          "text": [
            "Month:111\n",
            "月份不在範圍內\n"
          ]
        }
      ]
    },
    {
      "cell_type": "code",
      "source": [
        "salary=int(input('請輸入薪資:'))\n",
        "if salary>2000000:\n",
        "  稅率  =  0.3\n",
        "elif salary>1000000:\n",
        "  稅率 =  0.21\n",
        "elif salary>600000:\n",
        "  稅率 =  0.13\n",
        "elif salary>300000:\n",
        "  稅率 =  0.06\n",
        "elif salary<300000 :\n",
        "  稅率 =  0 \n",
        "print(\"0\")"
      ],
      "metadata": {
        "colab": {
          "base_uri": "https://localhost:8080/"
        },
        "id": "81-nXigWgWha",
        "outputId": "309c759d-05c8-4efd-9870-e19356a4feb1"
      },
      "execution_count": 56,
      "outputs": [
        {
          "output_type": "stream",
          "name": "stdout",
          "text": [
            "請輸入薪資:20\n",
            "0\n"
          ]
        }
      ]
    }
  ]
}